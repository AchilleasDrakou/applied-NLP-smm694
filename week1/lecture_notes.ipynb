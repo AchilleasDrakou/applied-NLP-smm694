{
 "cells": [
  {
   "cell_type": "markdown",
   "metadata": {
    "cell_style": "center",
    "slideshow": {
     "slide_type": "slide"
    }
   },
   "source": [
    "SMM694 ― Applied NLP\n",
    "====================\n",
    "\n",
    "Week 1, Intro to NLP\n",
    "================\n",
    "\n",
    "<img src=\"images/_0.jpg\" width=\"50%\">"
   ]
  },
  {
   "cell_type": "markdown",
   "metadata": {
    "slideshow": {
     "slide_type": "slide"
    }
   },
   "source": [
    "Overview of NLP: Agenda\n",
    "=====================\n",
    "\n",
    "+ conceptual and methodological roots\n",
    "+ scope of application\n",
    "+ established tools\n",
    "+ hot topics"
   ]
  },
  {
   "cell_type": "markdown",
   "metadata": {
    "slideshow": {
     "slide_type": "subslide"
    }
   },
   "source": [
    "Conceptual and methodological roots\n",
    "------------------------------------------------------"
   ]
  },
  {
   "cell_type": "code",
   "execution_count": 28,
   "metadata": {
    "cell_style": "split",
    "hide_input": true,
    "slideshow": {
     "slide_type": "subslide"
    }
   },
   "outputs": [
    {
     "data": {
      "image/png": "[encoded data removed]",
      "text/plain": [
       "<Figure size 432x288 with 1 Axes>"
      ]
     },
     "metadata": {},
     "output_type": "display_data"
    }
   ],
   "source": [
    "from matplotlib import pyplot as plt\n",
    "from matplotlib_venn import venn3, venn3_circles\n",
    "\n",
    "set1 = set(['A', 'B', 'C', 'D', 'E', 'F', 'G'])\n",
    "set2 = set(['B', 'I',])\n",
    "set3 = set(['J', 'L'])\n",
    "\n",
    "out = venn3([set1, set2, set3],\n",
    "            ('Computer Science',\n",
    "             'ML/DL',\n",
    "             'Computational linguistics'),\n",
    "            set_colors=('r', 'g', 'b'))\n",
    "\n",
    "for idx, subset in enumerate(out.subset_labels):\n",
    "    if subset is not None:\n",
    "        out.subset_labels[idx].set_visible(False)\n",
    "    else:\n",
    "        pass\n",
    "\n",
    "plt.show(out)"
   ]
  },
  {
   "cell_type": "code",
   "execution_count": 20,
   "metadata": {
    "cell_style": "split",
    "hide_input": true,
    "slideshow": {
     "slide_type": "fragment"
    }
   },
   "outputs": [
    {
     "data": {
      "image/png": "[encoded data removed]",
      "text/plain": [
       "<Figure size 432x288 with 1 Axes>"
      ]
     },
     "metadata": {},
     "output_type": "display_data"
    }
   ],
   "source": [
    "from matplotlib import pyplot as plt\n",
    "from matplotlib_venn import venn3, venn3_circles\n",
    "\n",
    "set1 = set(['A', 'B', 'C', 'D', 'E', 'F', 'G'])\n",
    "set2 = set(['B', 'C', 'D', 'H', 'I'])\n",
    "set3 = set(['C', 'J', 'L'])\n",
    "\n",
    "out = venn3([set1, set2, set3],\n",
    "            ('Computer Science',\n",
    "             'ML/DL',\n",
    "             'Computational linguistics'),\n",
    "            set_colors=('r', 'g', 'b'))\n",
    "\n",
    "for idx, subset in enumerate(out.subset_labels):\n",
    "    out.subset_labels[idx].set_visible(False)\n",
    "\n",
    "plt.show(out)"
   ]
  },
  {
   "cell_type": "markdown",
   "metadata": {
    "slideshow": {
     "slide_type": "subslide"
    }
   },
   "source": [
    "Scope of application\n",
    "-----------------------------\n",
    "\n",
    "+ NLP is a vast and fragmented field of research and practice that could confuse newbies\n",
    "\n",
    "+ Let's try to make order/sense by grouping NLP applications into two categories:\n",
    "\n",
    "    - operational applications\n",
    "    \n",
    "    - strategic application\n"
   ]
  },
  {
   "cell_type": "markdown",
   "metadata": {
    "cell_style": "split",
    "slideshow": {
     "slide_type": "subslide"
    }
   },
   "source": [
    "### Operational applications\n",
    "\n",
    "For example:\n",
    "\n",
    "+ text summarization\n",
    "+ classification\n",
    "+ speech recognition and synthesis\n",
    "+ dialogue systems and chatbots\n",
    "+ question answering\n",
    "+ text translation\n",
    "+ phonetics"
   ]
  },
  {
   "cell_type": "markdown",
   "metadata": {
    "cell_style": "split",
    "slideshow": {
     "slide_type": "fragment"
    }
   },
   "source": [
    "### Strategic applications\n",
    "\n",
    "For example:\n",
    "\n",
    "+ language modeling\n",
    "+ vector semantics and embeddings \n",
    "+ topic modeling\n",
    "+ sentiment analysis\n",
    "+ information extraction"
   ]
  },
  {
   "cell_type": "markdown",
   "metadata": {
    "slideshow": {
     "slide_type": "subslide"
    }
   },
   "source": [
    "Gamut of NLP tools & SMM694\n",
    "--------------------------------------------\n",
    "\n",
    "+ operational applications are close to the world of software engineering\n",
    "\n",
    "+ SMM694 focuses on the class of strategic applications of NLP, which are closer to the community of computational linguists and data scientists\n",
    "\n",
    "| Week | Topic                          |\n",
    "|:-----|:-------------------------------|\n",
    "| 2    | Language modeling              |\n",
    "| 3    | Vector semantics and embeddings|\n",
    "| 4    | Topic modeling                 |\n",
    "| 5    | Sentiment analysis             |\n",
    "| 6    | Information extraction         |"
   ]
  },
  {
   "cell_type": "markdown",
   "metadata": {
    "slideshow": {
     "slide_type": "subslide"
    }
   },
   "source": [
    "Established topics ― must-have skills\n",
    "-------------------------------------------------------\n",
    "\n",
    "+ sentiment analysis\n",
    "+ topic modeling"
   ]
  },
  {
   "cell_type": "code",
   "execution_count": null,
   "metadata": {
    "slideshow": {
     "slide_type": "subslide"
    }
   },
   "outputs": [],
   "source": []
  },
  {
   "cell_type": "code",
   "execution_count": null,
   "metadata": {
    "slideshow": {
     "slide_type": "subslide"
    }
   },
   "outputs": [],
   "source": []
  },
  {
   "cell_type": "markdown",
   "metadata": {
    "slideshow": {
     "slide_type": "subslide"
    }
   },
   "source": [
    "Hot topics\n",
    "---------------\n",
    "\n",
    "+ "
   ]
  },
  {
   "cell_type": "markdown",
   "metadata": {
    "slideshow": {
     "slide_type": "slide"
    }
   },
   "source": [
    "Contents of 05.20 webinar\n",
    "======================\n",
    "\n",
    "+ Q&A session\n",
    "+ regular expressions\n",
    "+ words and text corpora\n",
    "+ text normalization\n",
    "+ minimum edit distance"
   ]
  },
  {
   "cell_type": "markdown",
   "metadata": {
    "slideshow": {
     "slide_type": "slide"
    }
   },
   "source": [
    "Problem set\n",
    "===========\n",
    "\n",
    "No problem set is due this week."
   ]
  },
  {
   "cell_type": "markdown",
   "metadata": {
    "cell_style": "split"
   },
   "source": [
    "![](image/_0.jpg)"
   ]
  }
 ],
 "metadata": {
  "celltoolbar": "Slideshow",
  "kernelspec": {
   "display_name": "Python 3",
   "language": "python",
   "name": "python3"
  },
  "language_info": {
   "codemirror_mode": {
    "name": "ipython",
    "version": 3
   },
   "file_extension": ".py",
   "mimetype": "text/x-python",
   "name": "python",
   "nbconvert_exporter": "python",
   "pygments_lexer": "ipython3",
   "version": "3.7.7"
  },
  "latex_envs": {
   "LaTeX_envs_menu_present": true,
   "autoclose": false,
   "autocomplete": true,
   "bibliofile": "biblio.bib",
   "cite_by": "apalike",
   "current_citInitial": 1,
   "eqLabelWithNumbers": true,
   "eqNumInitial": 1,
   "hotkeys": {
    "equation": "Ctrl-E",
    "itemize": "Ctrl-I"
   },
   "labels_anchors": false,
   "latex_user_defs": false,
   "report_style_numbering": false,
   "user_envs_cfg": false
  },
  "toc": {
   "base_numbering": 1,
   "nav_menu": {},
   "number_sections": false,
   "sideBar": false,
   "skip_h1_title": false,
   "title_cell": "Table of Contents",
   "title_sidebar": "Contents",
   "toc_cell": false,
   "toc_position": {
    "height": "556.8px",
    "left": "62px",
    "top": "244.8px",
    "width": "307.2px"
   },
   "toc_section_display": false,
   "toc_window_display": false
  },
  "varInspector": {
   "cols": {
    "lenName": 16,
    "lenType": 16,
    "lenVar": 40
   },
   "kernels_config": {
    "python": {
     "delete_cmd_postfix": "",
     "delete_cmd_prefix": "del ",
     "library": "var_list.py",
     "varRefreshCmd": "print(var_dic_list())"
    },
    "r": {
     "delete_cmd_postfix": ") ",
     "delete_cmd_prefix": "rm(",
     "library": "var_list.r",
     "varRefreshCmd": "cat(var_dic_list()) "
    }
   },
   "types_to_exclude": [
    "module",
    "function",
    "builtin_function_or_method",
    "instance",
    "_Feature"
   ],
   "window_display": false
  }
 },
 "nbformat": 4,
 "nbformat_minor": 4
}
